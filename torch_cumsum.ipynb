{
  "nbformat": 4,
  "nbformat_minor": 0,
  "metadata": {
    "colab": {
      "name": "torch_cumsum.ipynb",
      "provenance": [],
      "collapsed_sections": [],
      "authorship_tag": "ABX9TyOJMrFG91Z/YwsxZ37eWZR9",
      "include_colab_link": true
    },
    "kernelspec": {
      "name": "python3",
      "display_name": "Python 3"
    },
    "language_info": {
      "name": "python"
    },
    "accelerator": "GPU"
  },
  "cells": [
    {
      "cell_type": "markdown",
      "metadata": {
        "id": "view-in-github",
        "colab_type": "text"
      },
      "source": [
        "<a href=\"https://colab.research.google.com/github/igorvere/tests/blob/main/torch_cumsum.ipynb\" target=\"_parent\"><img src=\"https://colab.research.google.com/assets/colab-badge.svg\" alt=\"Open In Colab\"/></a>"
      ]
    },
    {
      "cell_type": "code",
      "metadata": {
        "colab": {
          "base_uri": "https://localhost:8080/"
        },
        "id": "ixlehbBD0fZA",
        "outputId": "455073f7-afff-4989-b04b-aaadf4533009"
      },
      "source": [
        "import torch\n",
        "import time\n",
        "import jax\n",
        "\n",
        "\n",
        "def cumsum_torch(x, y0):\n",
        "    n_times, n_batch = x.shape\n",
        "    assert len(y0.shape) == 2\n",
        "\n",
        "    all_y = []\n",
        "    y = y0\n",
        "    for i in range(n_times):\n",
        "        y = x[i] + y\n",
        "        all_y.append(y)\n",
        "\n",
        "    all_y = torch.cat(all_y)\n",
        "\n",
        "    return all_y\n",
        "    \n",
        "@torch.jit.script\n",
        "def cumsum_torch_jit(x, y0):\n",
        "    n_times, n_batch = x.shape\n",
        "    assert len(y0.shape) == 2\n",
        "\n",
        "    all_y = []\n",
        "    y = y0\n",
        "    for i in range(n_times):\n",
        "        y = x[i] + y\n",
        "        all_y.append(y)\n",
        "\n",
        "    all_y = torch.cat(all_y)\n",
        "\n",
        "    return all_y\n",
        "\n",
        "\n",
        "\n",
        "\n",
        "seq_len = 10 ** 5\n",
        "batch_size = 2 ** 10\n",
        "nruns = 5\n",
        "\n",
        "def get_time():\n",
        "    torch.cuda.synchronize()\n",
        "    return time.time()\n",
        "\n",
        "#x = torch.zeros(seq_len, batch_size).cuda().requires_grad_(True)\n",
        "x = torch.zeros(seq_len, batch_size).cuda()\n",
        "y0 = torch.zeros(batch_size).cuda()\n",
        "        \n",
        "    \n",
        "for _ in range(nruns):\n",
        "    with torch.no_grad():\n",
        "        t = get_time()\n",
        "        y2 = cumsum_torch_jit(x, y0.unsqueeze(0))\n",
        "        print(f'jit elapsed: {get_time()-t} sec')\n",
        "        \n",
        "\n",
        "for _ in range(nruns):\n",
        "    with torch.no_grad():\n",
        "        t = get_time()\n",
        "        y2 = cumsum_torch(x, y0.unsqueeze(0))\n",
        "        print(f'py elapsed: {get_time()-t} sec')\n",
        "\n",
        "\n",
        "@jax.jit\n",
        "def cumsum_jax(x, y0):\n",
        "  def body(yi, xi):\n",
        "    yi += xi\n",
        "    return yi, yi\n",
        "  _, y = jax.lax.scan(body, y0, x, unroll=256)\n",
        "  return y\n",
        "\n",
        "\n",
        "x = jax.numpy.zeros((seq_len, batch_size))\n",
        "y0 = jax.numpy.zeros((batch_size, ))\n",
        "\n",
        "print(jax.devices())\n",
        "\n",
        "for _ in range(nruns):\n",
        "  t = get_time()\n",
        "  y = cumsum_jax(x, y0)\n",
        "  y.block_until_ready()\n",
        "  print(f'jax elapsed: {get_time()-t} sec')\n"
      ],
      "execution_count": 1,
      "outputs": [
        {
          "output_type": "stream",
          "name": "stdout",
          "text": [
            "jit elapsed: 2.705786943435669 sec\n",
            "jit elapsed: 0.7739927768707275 sec\n",
            "jit elapsed: 0.5666718482971191 sec\n",
            "jit elapsed: 0.5901196002960205 sec\n",
            "jit elapsed: 0.6054491996765137 sec\n",
            "py elapsed: 1.7551472187042236 sec\n",
            "py elapsed: 1.7276153564453125 sec\n",
            "py elapsed: 1.7300012111663818 sec\n",
            "py elapsed: 1.7638764381408691 sec\n",
            "py elapsed: 1.676008939743042 sec\n",
            "[GpuDevice(id=0, process_index=0)]\n",
            "jax elapsed: 4.911156892776489 sec\n",
            "jax elapsed: 0.14863204956054688 sec\n",
            "jax elapsed: 0.13698363304138184 sec\n",
            "jax elapsed: 0.12814617156982422 sec\n",
            "jax elapsed: 0.12300992012023926 sec\n"
          ]
        }
      ]
    }
  ]
}